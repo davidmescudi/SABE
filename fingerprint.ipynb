{
 "cells": [
  {
   "cell_type": "markdown",
   "metadata": {},
   "source": [
    "Import needed librarys"
   ]
  },
  {
   "cell_type": "code",
   "execution_count": 2,
   "metadata": {},
   "outputs": [],
   "source": [
    "import os\n",
    "current_directory = os.getcwd()\n",
    "honey_page_url = \"http://localhost:8000/honey_page.html\"\n",
    "import difflib\n",
    "from selenium import webdriver\n",
    "from selenium.webdriver.chrome.options import Options\n",
    "import time"
   ]
  },
  {
   "cell_type": "markdown",
   "metadata": {},
   "source": [
    "Configure the WebDriver"
   ]
  },
  {
   "cell_type": "code",
   "execution_count": 3,
   "metadata": {},
   "outputs": [],
   "source": [
    "options = Options()\n",
    "extension_path = os.path.join(current_directory,\"extension\",\"convert_URL_text_to_links\")\n",
    "#extension_path = os.path.join(current_directory,\"extension\",\"demo-extension\")\n",
    "options.add_argument(f\"--load-extension={extension_path}\")\n",
    "options.add_argument(\"--headless\")\n",
    "driver = webdriver.Chrome(options=options)"
   ]
  },
  {
   "cell_type": "markdown",
   "metadata": {},
   "source": [
    "Load and inject the mutation Observer into Selenium instance"
   ]
  },
  {
   "cell_type": "code",
   "execution_count": 4,
   "metadata": {},
   "outputs": [
    {
     "data": {
      "text/plain": [
       "{'identifier': '2'}"
      ]
     },
     "execution_count": 4,
     "metadata": {},
     "output_type": "execute_result"
    }
   ],
   "source": [
    "with open(\"mutationObserver.js\", \"r\") as file:\n",
    "    mutation_observer_script = file.read()\n",
    "\n",
    "driver.execute_cdp_cmd(\n",
    "    \"Page.addScriptToEvaluateOnNewDocument\", {\"source\": mutation_observer_script}\n",
    ")"
   ]
  },
  {
   "cell_type": "markdown",
   "metadata": {},
   "source": [
    "Load the honey page"
   ]
  },
  {
   "cell_type": "code",
   "execution_count": 5,
   "metadata": {},
   "outputs": [],
   "source": [
    "driver.get(honey_page_url)\n",
    "time.sleep(5)"
   ]
  },
  {
   "cell_type": "markdown",
   "metadata": {},
   "source": [
    "Show changes introduced by Extension"
   ]
  },
  {
   "cell_type": "code",
   "execution_count": 6,
   "metadata": {},
   "outputs": [
    {
     "name": "stdout",
     "output_type": "stream",
     "text": [
      "Mutation type: childList\n",
      "Target element: <p><a href=\"https://fakelogin.com\" style=\"color: inherit !important;\">https://fakelogin.com</a></p>\n",
      "Added nodes: ['<a href=\"https://fakelogin.com\" style=\"color: inherit !important;\">https://fakelogin.com</a>']\n",
      "Removed nodes: [None]\n",
      "------------------------------\n"
     ]
    }
   ],
   "source": [
    "mutation_logs = driver.execute_script(\"return window.mutationLogs;\")\n",
    "dom_content = driver.page_source\n",
    "driver.quit()\n",
    "\n",
    "for log in mutation_logs:\n",
    "    print(\"Mutation type:\", log[\"type\"])\n",
    "    print(\"Target element:\", log[\"target\"])\n",
    "    if log[\"type\"] == \"childList\":\n",
    "        print(\"Added nodes:\", log[\"addedNodes\"])\n",
    "        print(\"Removed nodes:\", log[\"removedNodes\"])\n",
    "    elif log[\"type\"] == \"attributes\":\n",
    "        print(\"Changed attribute:\", log[\"attributeName\"])\n",
    "    print(\"-\" * 30)\n"
   ]
  },
  {
   "cell_type": "markdown",
   "metadata": {},
   "source": [
    "Save baseline DOM and final DOM to a file"
   ]
  },
  {
   "cell_type": "code",
   "execution_count": 7,
   "metadata": {},
   "outputs": [],
   "source": [
    "dom_dump_path = os.path.join(current_directory,\"DOM_DUMPS\")\n",
    "os.makedirs(dom_dump_path, exist_ok=True)\n",
    "\n",
    "# get Baseline DOM\n",
    "base_options = Options()\n",
    "base_options.add_argument(\"--headless\")\n",
    "base_driver = webdriver.Chrome(options=base_options)\n",
    "base_driver.get(honey_page_url)\n",
    "baseline_DOM = base_driver.page_source\n",
    "base_driver.quit()\n",
    "\n",
    "with open(os.path.join(dom_dump_path,\"baseline.html\"), \"w\", encoding=\"utf-8\") as file:\n",
    "    file.write(baseline_DOM)\n",
    "\n",
    "with open(os.path.join(dom_dump_path,\"final.html\"), \"w\", encoding=\"utf-8\") as file:\n",
    "    file.write(dom_content)\n"
   ]
  },
  {
   "cell_type": "markdown",
   "metadata": {},
   "source": [
    "Compare baseline DOM with final DOM"
   ]
  },
  {
   "cell_type": "code",
   "execution_count": 8,
   "metadata": {},
   "outputs": [
    {
     "name": "stdout",
     "output_type": "stream",
     "text": [
      "<a href=\"\" style=\"color: inherit !important;\">https:fakelogin.com</a></p>\n",
      "    </\n"
     ]
    }
   ],
   "source": [
    "diff = difflib.ndiff(baseline_DOM, dom_content)\n",
    "addedLines = ''.join(x[2:] for x in diff if x.startswith('+ '))\n",
    "print(addedLines)"
   ]
  }
 ],
 "metadata": {
  "kernelspec": {
   "display_name": "Python 3",
   "language": "python",
   "name": "python3"
  },
  "language_info": {
   "codemirror_mode": {
    "name": "ipython",
    "version": 3
   },
   "file_extension": ".py",
   "mimetype": "text/x-python",
   "name": "python",
   "nbconvert_exporter": "python",
   "pygments_lexer": "ipython3",
   "version": "3.13.0"
  }
 },
 "nbformat": 4,
 "nbformat_minor": 2
}
